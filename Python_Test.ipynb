{
 "cells": [
  {
   "cell_type": "markdown",
   "metadata": {},
   "source": [
    "Данный тест поможет тебе, оценить твой знания основ Python3.\n",
    "**Автор: Макар Бадерко**\n",
    "\n",
    "**Copyright**\n",
    "# БУДЬ СПОКОЕН\n",
    "![ChessUrl](https://i.gifer.com/37JA.gif \"корги\"), "
   ]
  },
  {
   "cell_type": "markdown",
   "metadata": {},
   "source": [
    "Тест будет состоять из 3 частей, теоретической, проектов и практической. Начнем с теории."
   ]
  },
  {
   "cell_type": "markdown",
   "metadata": {},
   "source": [
    "### 1.1"
   ]
  },
  {
   "cell_type": "markdown",
   "metadata": {},
   "source": [
    "*Что будет напечатано?*"
   ]
  },
  {
   "cell_type": "code",
   "execution_count": 3,
   "metadata": {},
   "outputs": [],
   "source": [
    "kvps  = {\"user\",\"bill\", \"password\",\"hillary\"}\n",
    "print(kvps['password'])"
   ]
  },
  {
   "cell_type": "markdown",
   "metadata": {},
   "source": [
    "*Варианты ответов*\n",
    "> user\n",
    "\n",
    "> bill\n",
    "\n",
    "> password\n",
    "\n",
    "> hillary\n",
    "\n",
    "> Ничего. TypeError"
   ]
  },
  {
   "cell_type": "markdown",
   "metadata": {},
   "source": [
    "### 1.2"
   ]
  },
  {
   "cell_type": "markdown",
   "metadata": {},
   "source": [
    "*Что будет напечатано?*"
   ]
  },
  {
   "cell_type": "code",
   "execution_count": null,
   "metadata": {},
   "outputs": [],
   "source": [
    "x = 4.5\n",
    "y = 2\n",
    "print(x // y)"
   ]
  },
  {
   "cell_type": "markdown",
   "metadata": {},
   "source": [
    "*Варианты ответов*\n",
    "> 2.25\n",
    "\n",
    "> 9.0\n",
    "\n",
    "> 20.25\n",
    "\n",
    "> 2.0\n",
    "\n",
    "> 21"
   ]
  },
  {
   "cell_type": "markdown",
   "metadata": {},
   "source": [
    "### 1.3"
   ]
  },
  {
   "cell_type": "markdown",
   "metadata": {},
   "source": [
    "*Что покажет этот код?*"
   ]
  },
  {
   "cell_type": "code",
   "execution_count": 5,
   "metadata": {},
   "outputs": [],
   "source": [
    "for i in range(5):\n",
    "    if i % 2 == 0:\n",
    "        continue\n",
    "    print(i)"
   ]
  },
  {
   "cell_type": "markdown",
   "metadata": {},
   "source": [
    "*Варианты ответов*\n",
    "> Ошибку\n",
    "\n",
    "> Числа: 1 и 3\n",
    "\n",
    "> Числа: 1, 3, 5\n",
    "\n",
    "> Числа: 1, 3, 5\n",
    "\n",
    "> Числа: 0, 2, 4 "
   ]
  },
  {
   "cell_type": "markdown",
   "metadata": {},
   "source": [
    "### 1.4"
   ]
  },
  {
   "cell_type": "markdown",
   "metadata": {},
   "source": [
    "*Какие ошибки допущены в коде ниже?*"
   ]
  },
  {
   "cell_type": "code",
   "execution_count": null,
   "metadata": {},
   "outputs": [],
   "source": [
    "def factorial(n):\n",
    "    if n == 0:\n",
    "        return 1\n",
    "      else:\n",
    "        return n * factorial(n - 1)\n",
    "print(factorial(5))"
   ]
  },
  {
   "cell_type": "markdown",
   "metadata": {},
   "source": [
    "*Варианты ответов*\n",
    "\n",
    "> Функция не может вызвать сама себя\n",
    "\n",
    "> В коде нет никаких ошибок\n",
    "\n",
    "> Необходимо указать тип возврашаемого значения\n",
    "\n",
    "> Функция всегда будет возвращать 1\n",
    "\n",
    "> Функция не будет возвращать ничего, из-за зацикливания."
   ]
  },
  {
   "cell_type": "markdown",
   "metadata": {},
   "source": [
    "### 1.5"
   ]
  },
  {
   "cell_type": "markdown",
   "metadata": {},
   "source": [
    "*Что напечатает этот код?*"
   ]
  },
  {
   "cell_type": "code",
   "execution_count": null,
   "metadata": {},
   "outputs": [],
   "source": [
    "print(7//3 + 7//-3)"
   ]
  },
  {
   "cell_type": "markdown",
   "metadata": {},
   "source": [
    "*Варианты ответов*\n",
    "\n",
    "> -1\n",
    "\n",
    "> 0\n",
    "\n",
    "> 1\n",
    "\n",
    "> 7\n",
    "\n",
    "> Вернет ошибку"
   ]
  },
  {
   "cell_type": "markdown",
   "metadata": {},
   "source": [
    "### Поздравляю, ты закончил теоретическую часть теста, перейдем к практике!\n",
    "\n",
    "![ChessUrl](https://i.gifer.com/24WI.gif \"корги\")"
   ]
  },
  {
   "cell_type": "markdown",
   "metadata": {},
   "source": [
    "### 2.1"
   ]
  },
  {
   "cell_type": "markdown",
   "metadata": {},
   "source": [
    "Напишите функцию игры в камень ножницы бумагу для 2 игроков."
   ]
  },
  {
   "cell_type": "markdown",
   "metadata": {},
   "source": [
    "### 2.2"
   ]
  },
  {
   "cell_type": "markdown",
   "metadata": {},
   "source": [
    "Напшите функцию для игры в Виселицу"
   ]
  },
  {
   "cell_type": "markdown",
   "metadata": {},
   "source": [
    "#### Замечательно! Теперь перейдем к последней части теста!"
   ]
  },
  {
   "cell_type": "markdown",
   "metadata": {},
   "source": [
    "### 3.1"
   ]
  },
  {
   "cell_type": "markdown",
   "metadata": {},
   "source": [
    "https://www.codewars.com/kata/55fab1ffda3e2e44f00000c6"
   ]
  },
  {
   "cell_type": "markdown",
   "metadata": {},
   "source": [
    "### 3.2"
   ]
  },
  {
   "cell_type": "markdown",
   "metadata": {},
   "source": [
    "https://www.codewars.com/kata/5a3dd29055519e23ec000074"
   ]
  },
  {
   "cell_type": "markdown",
   "metadata": {},
   "source": [
    "### 3.3"
   ]
  },
  {
   "cell_type": "markdown",
   "metadata": {},
   "source": [
    "https://www.codewars.com/kata/55192f4ecd82ff826900089e/"
   ]
  },
  {
   "cell_type": "markdown",
   "metadata": {},
   "source": [
    "### Ура! Ты закончил свой тест! Ты большой молодец, продолжай в том же духе!\n",
    "![ChessUrl](https://i.gifer.com/4DN.gif \"корги\")"
   ]
  },
  {
   "cell_type": "code",
   "execution_count": null,
   "metadata": {},
   "outputs": [],
   "source": []
  }
 ],
 "metadata": {
  "kernelspec": {
   "display_name": "Python 3",
   "language": "python",
   "name": "python3"
  },
  "language_info": {
   "codemirror_mode": {
    "name": "ipython",
    "version": 3
   },
   "file_extension": ".py",
   "mimetype": "text/x-python",
   "name": "python",
   "nbconvert_exporter": "python",
   "pygments_lexer": "ipython3",
   "version": "3.7.6"
  }
 },
 "nbformat": 4,
 "nbformat_minor": 4
}
